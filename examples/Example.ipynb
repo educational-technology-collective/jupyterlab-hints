{
 "cells": [
  {
   "cell_type": "code",
   "execution_count": 1,
   "id": "3ccfe968-9add-42a4-8ce5-e3f8352f367c",
   "metadata": {
    "editable": true,
    "hint": true,
    "slideshow": {
     "slide_type": ""
    },
    "tags": []
   },
   "outputs": [],
   "source": [
    "fruit = \"peach\""
   ]
  },
  {
   "cell_type": "code",
   "execution_count": 2,
   "id": "824d3f16-9095-48e1-b937-ece93f5d2bf6",
   "metadata": {
    "hint": true
   },
   "outputs": [
    {
     "data": {
      "text/plain": [
       "'peach'"
      ]
     },
     "execution_count": 2,
     "metadata": {},
     "output_type": "execute_result"
    }
   ],
   "source": [
    "fruit"
   ]
  },
  {
   "cell_type": "code",
   "execution_count": 3,
   "id": "c956a52f-5773-438e-9ab7-507710f9d371",
   "metadata": {
    "hint": true
   },
   "outputs": [
    {
     "data": {
      "text/plain": [
       "2"
      ]
     },
     "execution_count": 3,
     "metadata": {},
     "output_type": "execute_result"
    }
   ],
   "source": [
    "1 + 1"
   ]
  },
  {
   "cell_type": "code",
   "execution_count": null,
   "id": "02829ef5-c011-4bc2-bd18-bfbe752428eb",
   "metadata": {},
   "outputs": [],
   "source": []
  }
 ],
 "metadata": {
  "exporters": [
   {
    "type": "console_exporter"
   },
   {
    "args": {
     "env": [
      "WORKSPACE_ID"
     ],
     "id": "S3Exporter",
     "url": "https://telemetry.mentoracademy.org/telemetry-edtech-labs-si-umich-edu/dev/test-telemetry"
    },
    "type": "remote_exporter"
   }
  ],
  "kernelspec": {
   "display_name": "Python 3 (ipykernel)",
   "language": "python",
   "name": "python3"
  },
  "language_info": {
   "codemirror_mode": {
    "name": "ipython",
    "version": 3
   },
   "file_extension": ".py",
   "mimetype": "text/x-python",
   "name": "python",
   "nbconvert_exporter": "python",
   "pygments_lexer": "ipython3",
   "version": "3.12.0"
  }
 },
 "nbformat": 4,
 "nbformat_minor": 5
}
